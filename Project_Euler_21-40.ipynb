{
 "cells": [
  {
   "cell_type": "markdown",
   "metadata": {},
   "source": [
    "\n",
    "# <center style = 'padding : 20px; border : 3px green double; margin-bottom : -30px;' >Project Euler : Problems 21 to 40.</center>\n",
    "<p style=\"text-align : right\">Louis SALOMÉ</right>\n",
    "\n",
    "All the following problems come from https://projecteuler.net/.\n",
    "\n",
    "I hope you'll find some nice ideas in this code even if the algorithms are sometimes far from optimal performances.\n",
    "\n",
    "Here is my friend's key =========> 804341_ax5HbE1YT04eusYj9FMdp1tcJpoREusm"
   ]
  },
  {
   "cell_type": "code",
   "execution_count": 1,
   "metadata": {},
   "outputs": [],
   "source": [
    "# IMPORT MODULES\n",
    "import numpy as np\n",
    "import math"
   ]
  },
  {
   "cell_type": "code",
   "execution_count": 2,
   "metadata": {},
   "outputs": [],
   "source": [
    "# Here is my personal library in the same repository\n",
    "import MyLibrary\n",
    "from MyLibrary import *"
   ]
  },
  {
   "cell_type": "markdown",
   "metadata": {},
   "source": [
    "#### Problem 21\n",
    "\n",
    "Let d(n) be defined as the sum of proper divisors of n (numbers less than n which divide evenly into n).\n",
    "If d(a) = b and d(b) = a, where a ≠ b, then a and b are an amicable pair and each of a and b are called amicable numbers.\n",
    "\n",
    "For example, the proper divisors of 220 are 1, 2, 4, 5, 10, 11, 20, 22, 44, 55 and 110; therefore d(220) = 284. The proper divisors of 284 are 1, 2, 4, 71 and 142; so d(284) = 220.\n",
    "\n",
    "Evaluate the sum of all the amicable numbers under 10000."
   ]
  },
  {
   "cell_type": "code",
   "execution_count": 3,
   "metadata": {},
   "outputs": [
    {
     "name": "stdout",
     "output_type": "stream",
     "text": [
      "31626\n",
      "Wall time: 4.84 s\n"
     ]
    }
   ],
   "source": [
    "%%time\n",
    "sum_of_amicable = 0\n",
    "\n",
    "for i in range(2,10001) :\n",
    "    sum_of_proper_divisors_of_i, sum_of_proper_divisors_of_this_sum = 0, 0\n",
    "    for j in range(1, int(i/2) +2) :\n",
    "        if i % j == 0 :\n",
    "            sum_of_proper_divisors_of_i += j\n",
    "    for k in range(1, int(sum_of_proper_divisors_of_i/2)+2) :\n",
    "        if sum_of_proper_divisors_of_i % k == 0 :\n",
    "            sum_of_proper_divisors_of_this_sum += k\n",
    "    if sum_of_proper_divisors_of_this_sum == i and sum_of_proper_divisors_of_i != sum_of_proper_divisors_of_this_sum :\n",
    "        sum_of_amicable += sum_of_proper_divisors_of_i + sum_of_proper_divisors_of_this_sum\n",
    "\n",
    "print(int(sum_of_amicable/2))"
   ]
  },
  {
   "cell_type": "markdown",
   "metadata": {},
   "source": [
    "#### Problem 22\n",
    "\n",
    "Using names.txt (right click and 'Save Link/Target As...'), a 46K text file containing over five-thousand first names, begin by sorting it into alphabetical order. Then working out the alphabetical value for each name, multiply this value by its alphabetical position in the list to obtain a name score.\n",
    "\n",
    "For example, when the list is sorted into alphabetical order, COLIN, which is worth 3 + 15 + 12 + 9 + 14 = 53, is the 938th name in the list. So, COLIN would obtain a score of 938 × 53 = 49714.\n",
    "\n",
    "What is the total of all the name scores in the file?"
   ]
  },
  {
   "cell_type": "code",
   "execution_count": 4,
   "metadata": {},
   "outputs": [
    {
     "name": "stdout",
     "output_type": "stream",
     "text": [
      "871198282\n",
      "Wall time: 128 ms\n"
     ]
    }
   ],
   "source": [
    "%%time\n",
    "# read file\n",
    "with open('src/22.txt') as text_file :\n",
    "    content = text_file.read()\n",
    "\n",
    "# get names\n",
    "names = content.split(',')\n",
    "names = [name[1:-1] for name in names]\n",
    "\n",
    "# sort names\n",
    "names.sort()\n",
    "\n",
    "# compute scores\n",
    "def word_score(word):\n",
    "    return np.array([ord(char) - 64 for char in word]).sum()\n",
    "scores = list(map(word_score,names))\n",
    "\n",
    "# sum scores*position\n",
    "print(np.array([(i+1)*scores[i] for i in range(len(names))]).sum())"
   ]
  },
  {
   "cell_type": "markdown",
   "metadata": {},
   "source": [
    "#### Problem 23 \n",
    "\n",
    "A perfect number is a number for which the sum of its proper divisors is exactly equal to the number. For example, the sum of the proper divisors of 28 would be 1 + 2 + 4 + 7 + 14 = 28, which means that 28 is a perfect number.\n",
    "\n",
    "A number n is called deficient if the sum of its proper divisors is less than n and it is called abundant if this sum exceeds n.\n",
    "\n",
    "As 12 is the smallest abundant number, 1 + 2 + 3 + 4 + 6 = 16, the smallest number that can be written as the sum of two abundant numbers is 24. By mathematical analysis, it can be shown that all integers greater than 28123 can be written as the sum of two abundant numbers. However, this upper limit cannot be reduced any further by analysis even though it is known that the greatest number that cannot be expressed as the sum of two abundant numbers is less than this limit.\n",
    "\n",
    "Find the sum of all the positive integers which cannot be written as the sum of two abundant numbers."
   ]
  },
  {
   "cell_type": "code",
   "execution_count": 5,
   "metadata": {},
   "outputs": [
    {
     "name": "stdout",
     "output_type": "stream",
     "text": [
      "4179871\n",
      "Wall time: 9.71 s\n"
     ]
    }
   ],
   "source": [
    "%%time\n",
    "def Div(n):\n",
    "    \"\"\" returns smallest common divisor of p and n \"\"\"\n",
    "    p = 2\n",
    "    while p**2 <= n :            \n",
    "        if n % p == 0 :     \n",
    "            return p\n",
    "        p = p + 1\n",
    "    return n    \n",
    " \n",
    "def SomAliq(n) :\n",
    "    \"\"\" returns sum of proper divisors of n \"\"\"\n",
    "    if n <= 1:\n",
    "        return 0\n",
    "    p = Div(n)\n",
    "    if p == n :\n",
    "        return 1\n",
    "    m = n // p\n",
    "    d = m\n",
    "    q = p\n",
    "    while d % p == 0:\n",
    "        d = d // p\n",
    "        q = q * p\n",
    "    return SomAliq(m) + m + q*SomAliq(d)\n",
    "\n",
    "N = 28123\n",
    "L = [n for n in range(N) if (SomAliq(n) > n) ]\n",
    "# There are 6965 abundant numbers smaller than 28123.\n",
    "\n",
    "L0 = list(range(N))\n",
    "for i in L :\n",
    "    for j in L :\n",
    "        r = i+j\n",
    "        if r < N :\n",
    "            L0[r] = 0\n",
    "\n",
    "print(np.array(L0).sum())"
   ]
  },
  {
   "cell_type": "markdown",
   "metadata": {},
   "source": [
    "#### Problem 24 \n",
    "\n",
    "A permutation is an ordered arrangement of objects. For example, 3124 is one possible permutation of the digits 1, 2, 3 and 4. If all of the permutations are listed numerically or alphabetically, we call it lexicographic order. The lexicographic permutations of 0, 1 and 2 are:\n",
    "\n",
    "012   021   102   120   201   210\n",
    "\n",
    "What is the millionth lexicographic permutation of the digits 0, 1, 2, 3, 4, 5, 6, 7, 8 and 9?"
   ]
  },
  {
   "cell_type": "code",
   "execution_count": 6,
   "metadata": {},
   "outputs": [
    {
     "name": "stdout",
     "output_type": "stream",
     "text": [
      "2783915460\n",
      "Wall time: 999 µs\n"
     ]
    }
   ],
   "source": [
    "%%time\n",
    "F = list(map(fact,list(range(10))))\n",
    "\n",
    "def basefact(n):\n",
    "    def aux(n,i):\n",
    "        if i == 0 :\n",
    "            return [n]\n",
    "        else :\n",
    "            q = n//F[i-1]\n",
    "            return [q]+aux(n-q*F[i-1],i-1)\n",
    "    return aux(n,10)\n",
    "\n",
    "order = basefact(10**6-1)\n",
    "digits = list(range(10))\n",
    "solution = 0\n",
    "for e in order[:-1] :\n",
    "    solution = 10*solution + digits[e]\n",
    "    if len(digits)>0: del digits[e]\n",
    "\n",
    "print(solution)"
   ]
  },
  {
   "cell_type": "markdown",
   "metadata": {},
   "source": [
    "#### Problem 25\n",
    "\n",
    "The Fibonacci sequence is defined by the recurrence relation:\n",
    "\n",
    "Fn = Fn−1 + Fn−2, where F1 = 1 and F2 = 1.\n",
    "Hence the first 12 terms will be:\n",
    "\n",
    "* F1 = 1\n",
    "* F2 = 1\n",
    "* F3 = 2\n",
    "* F4 = 3\n",
    "* F5 = 5\n",
    "* F6 = 8\n",
    "* F7 = 13\n",
    "* F8 = 21\n",
    "* F9 = 34\n",
    "* F10 = 55\n",
    "* F11 = 89\n",
    "* F12 = 144\n",
    "\n",
    "The 12th term, F12, is the first term to contain three digits.\n",
    "\n",
    "What is the index of the first term in the Fibonacci sequence to contain 1000 digits?"
   ]
  },
  {
   "cell_type": "code",
   "execution_count": 7,
   "metadata": {},
   "outputs": [
    {
     "name": "stdout",
     "output_type": "stream",
     "text": [
      "4782\n",
      "Wall time: 15.6 ms\n"
     ]
    }
   ],
   "source": [
    "%%time\n",
    "def fibo(n) :\n",
    "    a,b = 0,1\n",
    "    for i in range(1,n) :\n",
    "        a,b = b, a+b\n",
    "    return b\n",
    "\n",
    "a, b, length, index = 0, 1, 1, 0\n",
    "while length < 1000:\n",
    "    length = 1 + int(math.log10(b))\n",
    "    a,b = b, a+b\n",
    "    index += 1\n",
    "\n",
    "print(index)"
   ]
  },
  {
   "cell_type": "markdown",
   "metadata": {},
   "source": [
    "#### Problem 26\n",
    "\n",
    "A unit fraction contains 1 in the numerator. The decimal representation of the unit fractions with denominators 2 to 10 are given:\n",
    "\n",
    "* 1/2\t= \t0.5\n",
    "* 1/3\t= \t0.(3)\n",
    "* 1/4\t= \t0.25\n",
    "* 1/5\t= \t0.2\n",
    "* 1/6\t= \t0.1(6)\n",
    "* 1/7\t= \t0.(142857)\n",
    "* 1/8\t= \t0.125\n",
    "* 1/9\t= \t0.(1)\n",
    "* 1/10\t= \t0.1\n",
    "\n",
    "Where 0.1(6) means 0.166666..., and has a 1-digit recurring cycle. It can be seen that 1/7 has a 6-digit recurring cycle.\n",
    "\n",
    "Find the value of d < 1000 for which 1/d contains the longest recurring cycle in its decimal fraction part."
   ]
  },
  {
   "cell_type": "code",
   "execution_count": 8,
   "metadata": {},
   "outputs": [
    {
     "name": "stdout",
     "output_type": "stream",
     "text": [
      "983\n",
      "Wall time: 620 ms\n"
     ]
    }
   ],
   "source": [
    "%%time\n",
    "def deci(n) :\n",
    "    # stores 3000 digits after the dot in a list\n",
    "    L = []\n",
    "    m = 1000\n",
    "    for _ in range(3000) :\n",
    "        m = m*10**(1+int(math.log10(n/m)))\n",
    "        L += int_to_list( m // n )\n",
    "        m = m % n\n",
    "    return L\n",
    "\n",
    "def cyclesize(L) :\n",
    "    # returns cycle size\n",
    "    ind = 10\n",
    "    cycle = [L[150]]\n",
    "    while True :\n",
    "        t = len(cycle)\n",
    "        if L[150+t:150+3*t] == cycle+cycle : break\n",
    "        cycle.append(L[150+t])        \n",
    "    return len(cycle)\n",
    "\n",
    "index = 1\n",
    "best = 0\n",
    "# Test for d in [900,999]\n",
    "for i in range(900,1000) :\n",
    "    digits = deci(i)\n",
    "    if len(digits) > 150 :\n",
    "        size = cyclesize(digits)\n",
    "        if size > best :\n",
    "            best = size\n",
    "            index = i\n",
    "\n",
    "print(index)"
   ]
  },
  {
   "cell_type": "markdown",
   "metadata": {},
   "source": [
    "#### Problem 27\n",
    "\n",
    "Euler discovered the remarkable quadratic formula:\n",
    "\n",
    "n2+n+41\n",
    "It turns out that the formula will produce 40 primes for the consecutive integer values 0≤n≤39. However, when n=40,402+40+41=40(40+1)+41 is divisible by 41, and certainly when n=41,412+41+41 is clearly divisible by 41.\n",
    "\n",
    "The incredible formula n2−79n+1601 was discovered, which produces 80 primes for the consecutive values 0≤n≤79. The product of the coefficients, −79 and 1601, is −126479.\n",
    "\n",
    "Considering quadratics of the form:\n",
    "\n",
    "n2+an+b, where |a|<1000 and |b|≤1000\n",
    "\n",
    "where |n| is the modulus/absolute value of n\n",
    "e.g. |11|=11 and |−4|=4\n",
    "Find the product of the coefficients, a and b, for the quadratic expression that produces the maximum number of primes for consecutive values of n, starting with n=0."
   ]
  },
  {
   "cell_type": "code",
   "execution_count": 9,
   "metadata": {},
   "outputs": [
    {
     "name": "stdout",
     "output_type": "stream",
     "text": [
      "-59231\n",
      "Wall time: 6.39 s\n"
     ]
    }
   ],
   "source": [
    "%%time\n",
    "with open(r'src\\primes_below_one_million.txt') as f:\n",
    "    txt = f.read()\n",
    "    txt = ''.join(txt.split('\\n'))\n",
    "    primes = [int(a) for a in txt.split(',')]\n",
    "    \n",
    "M = primes[:170]\n",
    "for i in M[:] :\n",
    "    M.append(-i)\n",
    "\n",
    "def test(a,b) :\n",
    "    n = 0\n",
    "    T = b\n",
    "    while is_in_dichotomy(primes,abs(T)):\n",
    "    # 'primes' is a big list, use dichotomy to check if an element exists in it\n",
    "        n += 1\n",
    "        T = n**2 + a*n + b\n",
    "    return n\n",
    "\n",
    "maxi = 0\n",
    "indice = (0,0)\n",
    "\n",
    "for a in range(-1001,1001,1) :\n",
    "    for b in M : # it must be true for n=0, so b must be prime\n",
    "        r = test(a,b)\n",
    "        if r > maxi :\n",
    "            maxi = r\n",
    "            answer = a*b\n",
    "            #print(\"maximum reached:{}, a:{}, b:{}, a*b:{}\".format(maxi,a,b,a*b))\n",
    "print(answer)"
   ]
  },
  {
   "cell_type": "markdown",
   "metadata": {},
   "source": [
    "##### Problem 28\n",
    "\n",
    "Starting with the number 1 and moving to the right in a clockwise direction a 5 by 5 spiral is formed as follows:\n",
    "\n",
    "* 21 22 23 24 25\n",
    "* 20  7  8  9 10\n",
    "* 19  6  1  2 11\n",
    "* 18  5  4  3 12\n",
    "* 17 16 15 14 13\n",
    "\n",
    "It can be verified that the sum of the numbers on the diagonals is 101.\n",
    "\n",
    "What is the sum of the numbers on the diagonals in a 1001 by 1001 spiral formed in the same way?"
   ]
  },
  {
   "cell_type": "code",
   "execution_count": 10,
   "metadata": {},
   "outputs": [
    {
     "name": "stdout",
     "output_type": "stream",
     "text": [
      "669171001\n",
      "Wall time: 999 µs\n"
     ]
    }
   ],
   "source": [
    "%%time\n",
    "S = 1\n",
    "current = 1\n",
    "for i in range(1,501):\n",
    "    for _ in range(4):\n",
    "        current += 2*i\n",
    "        S += current\n",
    "print(S)"
   ]
  },
  {
   "cell_type": "markdown",
   "metadata": {},
   "source": [
    "##### Problem 29\n",
    "\n",
    "Consider all integer combinations of ab for 2 ≤ a ≤ 5 and 2 ≤ b ≤ 5:\n",
    "\n",
    "22=4, 23=8, 24=16, 25=32\n",
    "32=9, 33=27, 34=81, 35=243\n",
    "42=16, 43=64, 44=256, 45=1024\n",
    "52=25, 53=125, 54=625, 55=3125\n",
    "If they are then placed in numerical order, with any repeats removed, we get the following sequence of 15 distinct terms:\n",
    "\n",
    "4, 8, 9, 16, 25, 27, 32, 64, 81, 125, 243, 256, 625, 1024, 3125\n",
    "\n",
    "How many distinct terms are in the sequence generated by ab for 2 ≤ a ≤ 100 and 2 ≤ b ≤ 100?"
   ]
  },
  {
   "cell_type": "code",
   "execution_count": 11,
   "metadata": {},
   "outputs": [
    {
     "name": "stdout",
     "output_type": "stream",
     "text": [
      "9183\n",
      "Wall time: 496 ms\n"
     ]
    }
   ],
   "source": [
    "%%time\n",
    "L = []\n",
    "n=100\n",
    "for i in range(2,n+1) :\n",
    "    for j in range(2,n+1) :\n",
    "        r = i**j\n",
    "        if (r in L) == False :\n",
    "            L.append(r)\n",
    "print(len(L))"
   ]
  },
  {
   "cell_type": "markdown",
   "metadata": {},
   "source": [
    "##### Problem 30\n",
    "\n",
    "Surprisingly there are only three numbers that can be written as the sum of fourth powers of their digits:\n",
    "\n",
    "* 1634 = 14 + 64 + 34 + 44\n",
    "* 8208 = 84 + 24 + 04 + 84\n",
    "* 9474 = 94 + 44 + 74 + 44\n",
    "\n",
    "As 1 = 14 is not a sum it is not included.\n",
    "\n",
    "The sum of these numbers is 1634 + 8208 + 9474 = 19316.\n",
    "\n",
    "Find the sum of all the numbers that can be written as the sum of fifth powers of their digits."
   ]
  },
  {
   "cell_type": "code",
   "execution_count": 12,
   "metadata": {},
   "outputs": [
    {
     "name": "stdout",
     "output_type": "stream",
     "text": [
      "443839\n",
      "Wall time: 4.8 s\n"
     ]
    }
   ],
   "source": [
    "%%time\n",
    "L = []\n",
    "for i in range(2,360000) :\n",
    "    digits = int_to_list(i)\n",
    "    n = (np.array(digits)**5).sum()\n",
    "    if i==n and (n in L) == False :\n",
    "        L.append(n)\n",
    "\n",
    "print(np.array(L).sum())"
   ]
  },
  {
   "cell_type": "markdown",
   "metadata": {},
   "source": [
    "##### Problem 31\n",
    "\n",
    "In England the currency is made up of pound, £, and pence, p, and there are eight coins in general circulation:\n",
    "\n",
    "1p, 2p, 5p, 10p, 20p, 50p, £1 (100p) and £2 (200p).\n",
    "It is possible to make £2 in the following way:\n",
    "\n",
    "1×£1 + 1×50p + 2×20p + 1×5p + 1×2p + 3×1p\n",
    "How many different ways can £2 be made using any number of coins?"
   ]
  },
  {
   "cell_type": "code",
   "execution_count": 13,
   "metadata": {},
   "outputs": [
    {
     "name": "stdout",
     "output_type": "stream",
     "text": [
      "73682\n",
      "Wall time: 999 µs\n"
     ]
    }
   ],
   "source": [
    "%%time\n",
    "coins = [1,2,5,10,20,50,100,200]\n",
    "ways= [0]*201\n",
    "ways[0]=1\n",
    "for coin in coins:\n",
    "    for j in range(coin,201):\n",
    "        ways[j] += ways[j-coin]\n",
    "print(ways[200])"
   ]
  },
  {
   "cell_type": "markdown",
   "metadata": {},
   "source": [
    "##### Problem 32\n",
    "\n",
    "We shall say that an n-digit number is pandigital if it makes use of all the digits 1 to n exactly once; for example, the 5-digit number, 15234, is 1 through 5 pandigital.\n",
    "\n",
    "The product 7254 is unusual, as the identity, 39 × 186 = 7254, containing multiplicand, multiplier, and product is 1 through 9 pandigital.\n",
    "\n",
    "Find the sum of all products whose multiplicand/multiplier/product identity can be written as a 1 through 9 pandigital.\n",
    "\n",
    "HINT: Some products can be obtained in more than one way so be sure to only include it once in your sum."
   ]
  },
  {
   "cell_type": "code",
   "execution_count": 14,
   "metadata": {},
   "outputs": [
    {
     "name": "stdout",
     "output_type": "stream",
     "text": [
      "45228\n",
      "Wall time: 1.47 s\n"
     ]
    }
   ],
   "source": [
    "%%time\n",
    "def occurence(L) :\n",
    "    Oc = [0 for i in range(10)]\n",
    "    for i in L :\n",
    "        Oc[i] += 1\n",
    "    return Oc\n",
    "\n",
    "def is_pandi(L) :\n",
    "    return ( occurence(L) == ([0] + [1]*9) )\n",
    "\n",
    "def test1(L) :\n",
    "    a = list_to_int([L[0]]) * list_to_int(L[1:])\n",
    "    if is_pandi(int_to_list(a) + L) :\n",
    "        return a\n",
    "    else :\n",
    "        return 0\n",
    "\n",
    "def test2(L) :\n",
    "    a = list_to_int(L[0:2]) * list_to_int(L[2:])\n",
    "    if is_pandi(int_to_list(a) + L) :\n",
    "        return a\n",
    "    else :\n",
    "        return 0\n",
    "\n",
    "L = []\n",
    "S = 0\n",
    "for a in range(1,10) :\n",
    "    for b in range(1,10) :\n",
    "        for c in range(1,10) :\n",
    "            for d in range(1, 10) :\n",
    "                for e in range(1,10) :\n",
    "                    M = [a,b,c,d,e]\n",
    "                    r1 = test1(M)\n",
    "                    if r1 != 0 and not(r1 in L) :\n",
    "                        L.append(r1)\n",
    "                        S += r1\n",
    "                    r2 = test2(M)\n",
    "                    if r2 != 0 and not(r2 in L) :\n",
    "                        L.append(r2)\n",
    "                        S += r2    \n",
    "print(S)"
   ]
  },
  {
   "cell_type": "markdown",
   "metadata": {},
   "source": [
    "##### Problem 33\n",
    "\n",
    "The fraction 49/98 is a curious fraction, as an inexperienced mathematician in attempting to simplify it may incorrectly believe that 49/98 = 4/8, which is correct, is obtained by cancelling the 9s.\n",
    "\n",
    "We shall consider fractions like, 30/50 = 3/5, to be trivial examples.\n",
    "\n",
    "There are exactly four non-trivial examples of this type of fraction, less than one in value, and containing two digits in the numerator and denominator.\n",
    "\n",
    "If the product of these four fractions is given in its lowest common terms, find the value of the denominator."
   ]
  },
  {
   "cell_type": "code",
   "execution_count": 15,
   "metadata": {},
   "outputs": [
    {
     "name": "stdout",
     "output_type": "stream",
     "text": [
      "Wall time: 114 ms\n"
     ]
    }
   ],
   "source": [
    "%%time\n",
    "L = []\n",
    "for i in range(11,100) :\n",
    "    for j in range(i+1,100) :\n",
    "        a = i//10\n",
    "        b = i%10\n",
    "        c = j//10\n",
    "        d = j%10\n",
    "        if b==c and a*j == i*d :\n",
    "            L.append([i,j])\n",
    "        if a == d and c*i == b*j :\n",
    "            L.append([i,j])\n",
    "\n",
    "from fractions import Fraction \n",
    "np.array([Fraction(a,b) for a,b in L]).prod()"
   ]
  },
  {
   "cell_type": "markdown",
   "metadata": {},
   "source": [
    "##### Problem 34\n",
    "\n",
    "145 is a curious number, as 1! + 4! + 5! = 1 + 24 + 120 = 145.\n",
    "\n",
    "Find the sum of all numbers which are equal to the sum of the factorial of their digits.\n",
    "\n",
    "Note: as 1! = 1 and 2! = 2 are not sums they are not included."
   ]
  },
  {
   "cell_type": "code",
   "execution_count": 16,
   "metadata": {},
   "outputs": [
    {
     "name": "stdout",
     "output_type": "stream",
     "text": [
      "40730\n",
      "Wall time: 653 ms\n"
     ]
    }
   ],
   "source": [
    "%%time\n",
    "F= [1]\n",
    "for i in range(1,10) :\n",
    "    F.append(fact(i))\n",
    "\n",
    "def test(L) :\n",
    "    S = 0\n",
    "    for i in L :\n",
    "        S += F[i]\n",
    "    return S\n",
    "\n",
    "S = 0\n",
    "for i in range(3,10**5) :\n",
    "    if test(int_to_list(i)) == i :\n",
    "        S += i\n",
    "\n",
    "print(S)"
   ]
  },
  {
   "cell_type": "markdown",
   "metadata": {},
   "source": [
    "##### Problem 35\n",
    "\n",
    "The number, 197, is called a circular prime because all rotations of the digits: 197, 971, and 719, are themselves prime.\n",
    "\n",
    "There are thirteen such primes below 100: 2, 3, 5, 7, 11, 13, 17, 31, 37, 71, 73, 79, and 97.\n",
    "\n",
    "How many circular primes are there below one million?"
   ]
  },
  {
   "cell_type": "code",
   "execution_count": 17,
   "metadata": {},
   "outputs": [
    {
     "name": "stdout",
     "output_type": "stream",
     "text": [
      "55\n",
      "Wall time: 5.77 s\n"
     ]
    }
   ],
   "source": [
    "%%time\n",
    "with open(r'src\\primes_below_one_million.txt') as f:\n",
    "    txt = f.read()\n",
    "    txt = ''.join(txt.split('\\n'))\n",
    "    primes = [int(a) for a in txt.split(',')]\n",
    "    \n",
    "def circular(n) :\n",
    "    L = int_to_list(n)\n",
    "    M =[]\n",
    "    t = len(L)\n",
    "    for i in range(t) :\n",
    "        l = []\n",
    "        for j in range(t) :\n",
    "            if i+j >= t :\n",
    "                l.append(L[i+j-t])\n",
    "            else :\n",
    "                l.append(L[i+j])\n",
    "        M.append( list_to_int(l) )\n",
    "    return M\n",
    "\n",
    "liste = []\n",
    "for i in primes :\n",
    "    test = True\n",
    "    for j in circular(i) :\n",
    "        if not(is_in_dichotomy(primes,j)) :\n",
    "            test = False\n",
    "    if test == True :\n",
    "        liste.append(i)\n",
    "\n",
    "print(len(liste))"
   ]
  },
  {
   "cell_type": "markdown",
   "metadata": {},
   "source": [
    "##### Problem 36\n",
    "\n",
    "The decimal number, 585 = 10010010012 (binary), is palindromic in both bases.\n",
    "\n",
    "Find the sum of all numbers, less than one million, which are palindromic in base 10 and base 2.\n",
    "\n",
    "(Please note that the palindromic number, in either base, may not include leading zeros.)"
   ]
  },
  {
   "cell_type": "code",
   "execution_count": 18,
   "metadata": {},
   "outputs": [
    {
     "name": "stdout",
     "output_type": "stream",
     "text": [
      "872187\n",
      "Wall time: 4.67 s\n"
     ]
    }
   ],
   "source": [
    "%%time\n",
    "def find_all_palindromes() :\n",
    "    L = []\n",
    "    for i in range(500000) :\n",
    "        if est_palindrome(int_to_list(2*i+1)) :\n",
    "            L.append(2*i+1)\n",
    "    return L\n",
    "\n",
    "def base2(n) :\n",
    "    D = []\n",
    "    while n >= 1 :\n",
    "        D.append(n%2)\n",
    "        n = n // 2\n",
    "    return D\n",
    "\n",
    "S = 0\n",
    "for i in find_all_palindromes() :\n",
    "    if est_palindrome(base2(i)) :\n",
    "        S += i\n",
    "\n",
    "print(S)"
   ]
  },
  {
   "cell_type": "markdown",
   "metadata": {},
   "source": [
    "##### Problem 37\n",
    "\n",
    "The number 3797 has an interesting property. Being prime itself, it is possible to continuously remove digits from left to right, and remain prime at each stage: 3797, 797, 97, and 7. Similarly we can work from right to left: 3797, 379, 37, and 3.\n",
    "\n",
    "Find the sum of the only eleven primes that are both truncatable from left to right and right to left.\n",
    "\n",
    "NOTE: 2, 3, 5, and 7 are not considered to be truncatable primes."
   ]
  },
  {
   "cell_type": "code",
   "execution_count": 19,
   "metadata": {},
   "outputs": [
    {
     "name": "stdout",
     "output_type": "stream",
     "text": [
      "748317\n",
      "Wall time: 2.73 s\n"
     ]
    }
   ],
   "source": [
    "%%time\n",
    "def tronque(n) :\n",
    "    M = []\n",
    "    L = int_to_list(n)\n",
    "    for i in range(1,len(L)) :\n",
    "        M.append( list_to_int(L[:i]) )\n",
    "        M.append( list_to_int(L[i:]) )\n",
    "    return M\n",
    "\n",
    "with open(r'src\\primes_below_one_million.txt') as f:\n",
    "    txt = f.read()\n",
    "    txt = ''.join(txt.split('\\n'))\n",
    "    primes = [int(a) for a in txt.split(',')]\n",
    "\n",
    "L = []\n",
    "for i in primes :\n",
    "    if (i%10 in [2,3,5,7]) :\n",
    "        test = True\n",
    "        for j in tronque(i) :\n",
    "            if not(is_in_dichotomy(primes,j)) :\n",
    "                   test = False\n",
    "        if test == True :\n",
    "            L.append(i)\n",
    "\n",
    "print(np.array(L).sum()-2-3-5-7)"
   ]
  },
  {
   "cell_type": "markdown",
   "metadata": {},
   "source": [
    "##### Problem 38\n",
    "\n",
    "Take the number 192 and multiply it by each of 1, 2, and 3:\n",
    "\n",
    "* 192 × 1 = 192\n",
    "* 192 × 2 = 384\n",
    "* 192 × 3 = 576\n",
    "\n",
    "By concatenating each product we get the 1 to 9 pandigital, 192384576. We will call 192384576 the concatenated product of 192 and (1,2,3)\n",
    "\n",
    "The same can be achieved by starting with 9 and multiplying by 1, 2, 3, 4, and 5, giving the pandigital, 918273645, which is the concatenated product of 9 and (1,2,3,4,5).\n",
    "\n",
    "What is the largest 1 to 9 pandigital 9-digit number that can be formed as the concatenated product of an integer with (1,2, ... , n) where n > 1?"
   ]
  },
  {
   "cell_type": "code",
   "execution_count": 20,
   "metadata": {},
   "outputs": [
    {
     "name": "stdout",
     "output_type": "stream",
     "text": [
      "932718654\n",
      "Wall time: 100 ms\n"
     ]
    }
   ],
   "source": [
    "%%time\n",
    "def occurence(L) :\n",
    "    Oc = [0 for i in range(10)]\n",
    "    for i in L :\n",
    "        Oc[i] += 1\n",
    "    return Oc\n",
    "\n",
    "def is_pandi(L) :\n",
    "    return ( occurence(L) == ([0] + [1]*9) )\n",
    "\n",
    "maxi = 0\n",
    "for a in range(1,10) :\n",
    "    for b in range(1,10) :\n",
    "        for c in range(1,10) :\n",
    "            for d in range(1,10) :\n",
    "                n = a*1000 +b*100 +c*10 + d\n",
    "                L = []\n",
    "                for i in range(1,3) :\n",
    "                    L += int_to_list(n*i)\n",
    "                    if is_pandi(L) :\n",
    "                        t = list_to_int(L)\n",
    "                        if t > maxi :\n",
    "                            maxi = t\n",
    "                            point = n\n",
    "                            u = i\n",
    "\n",
    "print(maxi)"
   ]
  },
  {
   "cell_type": "markdown",
   "metadata": {},
   "source": [
    "##### Problem 39\n",
    "\n",
    "If p is the perimeter of a right angle triangle with integral length sides, {a,b,c}, there are exactly three solutions for p = 120.\n",
    "\n",
    "{20,48,52}, {24,45,51}, {30,40,50}\n",
    "\n",
    "For which value of p ≤ 1000, is the number of solutions maximised?"
   ]
  },
  {
   "cell_type": "code",
   "execution_count": 21,
   "metadata": {},
   "outputs": [
    {
     "name": "stdout",
     "output_type": "stream",
     "text": [
      "840\n",
      "Wall time: 81 ms\n"
     ]
    }
   ],
   "source": [
    "%%time\n",
    "N = 1000\n",
    "L = np.zeros(1001)\n",
    "for a in range(1,500):\n",
    "    for b in range(a,500):\n",
    "        c_squared = a*a + b*b\n",
    "        c = int(c_squared**0.5)\n",
    "        p = a + b + c\n",
    "        if not p < N: break\n",
    "        if c*c == c_squared:\n",
    "            L[p] += 1\n",
    "print(L.argmax())"
   ]
  },
  {
   "cell_type": "markdown",
   "metadata": {},
   "source": [
    "##### Problem 40\n",
    "An irrational decimal fraction is created by concatenating the positive integers:\n",
    "\n",
    "0.123456789101112131415161718192021...\n",
    "\n",
    "It can be seen that the 12th digit of the fractional part is 1.\n",
    "\n",
    "If dn represents the nth digit of the fractional part, find the value of the following expression.\n",
    "\n",
    "$d_{1} \\times d_{10} \\times d_{100} \\times d_{1000} \\times d_{10000} \\times d_{100000} \\times d_{1000000}$"
   ]
  },
  {
   "cell_type": "code",
   "execution_count": 22,
   "metadata": {},
   "outputs": [
    {
     "name": "stdout",
     "output_type": "stream",
     "text": [
      "210\n",
      "Wall time: 382 ms\n"
     ]
    }
   ],
   "source": [
    "%%time\n",
    "champ = ''.join([str(a) for a in list(range(0,1000000))])\n",
    "chars = [champ[10**i] for i in range(7)]\n",
    "print(np.array([int(a) for a in chars]).prod())"
   ]
  }
 ],
 "metadata": {
  "kernelspec": {
   "display_name": "Python 3",
   "language": "python",
   "name": "python3"
  },
  "language_info": {
   "codemirror_mode": {
    "name": "ipython",
    "version": 3
   },
   "file_extension": ".py",
   "mimetype": "text/x-python",
   "name": "python",
   "nbconvert_exporter": "python",
   "pygments_lexer": "ipython3",
   "version": "3.6.8"
  }
 },
 "nbformat": 4,
 "nbformat_minor": 2
}
